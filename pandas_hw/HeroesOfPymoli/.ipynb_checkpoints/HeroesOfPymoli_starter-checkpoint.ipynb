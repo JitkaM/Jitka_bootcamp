{
 "cells": [
  {
   "cell_type": "markdown",
   "metadata": {},
   "source": [
    "### Heroes Of Pymoli Data Analysis\n",
    "* Of the 1163 active players, the vast majority are male (84%). There also exists, a smaller, but notable proportion of female players (14%).\n",
    "\n",
    "* Our peak age demographic falls between 20-24 (44.8%) with secondary groups falling between 15-19 (18.60%) and 25-29 (13.4%).  \n",
    "-----"
   ]
  },
  {
   "cell_type": "markdown",
   "metadata": {},
   "source": [
    "### Note\n",
    "* Instructions have been included for each segment. You do not have to follow them exactly, but they are included to help you think through the steps."
   ]
  },
  {
   "cell_type": "code",
   "execution_count": 133,
   "metadata": {},
   "outputs": [],
   "source": [
    "# Dependencies and Setup\n",
    "import pandas as pd\n",
    "import numpy as np\n",
    "\n",
    "# File to Load (Remember to Change These)\n",
    "file_to_load = \"/Users/Jitka/Desktop/04-Pandas/Instructions/HeroesOfPymoli/Resources/purchase_data.csv\"\n",
    "\n",
    "# Read Purchasing File and store into Pandas data frame\n",
    "purchase_data = pd.read_csv(file_to_load)\n",
    "#print (purchase_data)"
   ]
  },
  {
   "cell_type": "markdown",
   "metadata": {},
   "source": [
    "## Player Count"
   ]
  },
  {
   "cell_type": "markdown",
   "metadata": {},
   "source": [
    "* Display the total number of players\n"
   ]
  },
  {
   "cell_type": "code",
   "execution_count": 134,
   "metadata": {},
   "outputs": [
    {
     "data": {
      "text/html": [
       "<div>\n",
       "<style scoped>\n",
       "    .dataframe tbody tr th:only-of-type {\n",
       "        vertical-align: middle;\n",
       "    }\n",
       "\n",
       "    .dataframe tbody tr th {\n",
       "        vertical-align: top;\n",
       "    }\n",
       "\n",
       "    .dataframe thead th {\n",
       "        text-align: right;\n",
       "    }\n",
       "</style>\n",
       "<table border=\"1\" class=\"dataframe\">\n",
       "  <thead>\n",
       "    <tr style=\"text-align: right;\">\n",
       "      <th></th>\n",
       "      <th>Total Players</th>\n",
       "    </tr>\n",
       "  </thead>\n",
       "  <tbody>\n",
       "    <tr>\n",
       "      <th>0</th>\n",
       "      <td>576</td>\n",
       "    </tr>\n",
       "  </tbody>\n",
       "</table>\n",
       "</div>"
      ],
      "text/plain": [
       "   Total Players\n",
       "0            576"
      ]
     },
     "execution_count": 134,
     "metadata": {},
     "output_type": "execute_result"
    }
   ],
   "source": [
    "player_count = purchase_data['SN'].nunique()\n",
    "player_count_df = pd.DataFrame([[player_count]], columns=['Total Players'])\n",
    "player_count_df"
   ]
  },
  {
   "cell_type": "markdown",
   "metadata": {},
   "source": [
    "## Purchasing Analysis (Total)"
   ]
  },
  {
   "cell_type": "markdown",
   "metadata": {},
   "source": [
    "* Run basic calculations to obtain number of unique items, average price, etc.\n",
    "\n",
    "\n",
    "* Create a summary data frame to hold the results\n",
    "\n",
    "\n",
    "* Optional: give the displayed data cleaner formatting\n",
    "\n",
    "\n",
    "* Display the summary data frame\n"
   ]
  },
  {
   "cell_type": "code",
   "execution_count": 136,
   "metadata": {
    "scrolled": true
   },
   "outputs": [
    {
     "data": {
      "text/html": [
       "<div>\n",
       "<style scoped>\n",
       "    .dataframe tbody tr th:only-of-type {\n",
       "        vertical-align: middle;\n",
       "    }\n",
       "\n",
       "    .dataframe tbody tr th {\n",
       "        vertical-align: top;\n",
       "    }\n",
       "\n",
       "    .dataframe thead th {\n",
       "        text-align: right;\n",
       "    }\n",
       "</style>\n",
       "<table border=\"1\" class=\"dataframe\">\n",
       "  <thead>\n",
       "    <tr style=\"text-align: right;\">\n",
       "      <th></th>\n",
       "      <th>Number of Unique Items</th>\n",
       "      <th>Average Price</th>\n",
       "      <th>Number of Purchases</th>\n",
       "      <th>Total Revenue</th>\n",
       "    </tr>\n",
       "  </thead>\n",
       "  <tbody>\n",
       "    <tr>\n",
       "      <th>0</th>\n",
       "      <td>183</td>\n",
       "      <td>$3.05</td>\n",
       "      <td>780</td>\n",
       "      <td>$2379.77</td>\n",
       "    </tr>\n",
       "  </tbody>\n",
       "</table>\n",
       "</div>"
      ],
      "text/plain": [
       "   Number of Unique Items Average Price  Number of Purchases Total Revenue\n",
       "0                     183         $3.05                  780      $2379.77"
      ]
     },
     "execution_count": 136,
     "metadata": {},
     "output_type": "execute_result"
    }
   ],
   "source": [
    "u_items = purchase_data['Item ID'].nunique()\n",
    "price_avg = purchase_data['Price'].mean()\n",
    "price_avg = round(price_avg, 2)\n",
    "price_avg = \"$\" + str(price_avg)\n",
    "total_count = purchase_data['SN'].count()\n",
    "total_price = purchase_data['Price'].sum()\n",
    "total_price = \"$\" + str(total_price)\n",
    "purchasing_analysis_df = pd.DataFrame([[u_items, price_avg, total_count, total_price]], columns=['Number of Unique Items', 'Average Price', 'Number of Purchases', 'Total Revenue'] )\n",
    "purchasing_analysis_df"
   ]
  },
  {
   "cell_type": "markdown",
   "metadata": {},
   "source": [
    "## Gender Demographics"
   ]
  },
  {
   "cell_type": "markdown",
   "metadata": {},
   "source": [
    "* Percentage and Count of Male Players\n",
    "\n",
    "\n",
    "* Percentage and Count of Female Players\n",
    "\n",
    "\n",
    "* Percentage and Count of Other / Non-Disclosed\n",
    "\n",
    "\n"
   ]
  },
  {
   "cell_type": "code",
   "execution_count": 137,
   "metadata": {},
   "outputs": [
    {
     "data": {
      "text/html": [
       "<div>\n",
       "<style scoped>\n",
       "    .dataframe tbody tr th:only-of-type {\n",
       "        vertical-align: middle;\n",
       "    }\n",
       "\n",
       "    .dataframe tbody tr th {\n",
       "        vertical-align: top;\n",
       "    }\n",
       "\n",
       "    .dataframe thead th {\n",
       "        text-align: right;\n",
       "    }\n",
       "</style>\n",
       "<table border=\"1\" class=\"dataframe\">\n",
       "  <thead>\n",
       "    <tr style=\"text-align: right;\">\n",
       "      <th></th>\n",
       "      <th>Total Count</th>\n",
       "      <th>Percentage of Players</th>\n",
       "    </tr>\n",
       "  </thead>\n",
       "  <tbody>\n",
       "    <tr>\n",
       "      <th>Male</th>\n",
       "      <td>484</td>\n",
       "      <td>84.03</td>\n",
       "    </tr>\n",
       "    <tr>\n",
       "      <th>Female</th>\n",
       "      <td>81</td>\n",
       "      <td>14.06</td>\n",
       "    </tr>\n",
       "    <tr>\n",
       "      <th>Other / Non-Disclosed</th>\n",
       "      <td>11</td>\n",
       "      <td>1.91</td>\n",
       "    </tr>\n",
       "  </tbody>\n",
       "</table>\n",
       "</div>"
      ],
      "text/plain": [
       "                       Total Count  Percentage of Players\n",
       "Male                           484                  84.03\n",
       "Female                          81                  14.06\n",
       "Other / Non-Disclosed           11                   1.91"
      ]
     },
     "execution_count": 137,
     "metadata": {},
     "output_type": "execute_result"
    }
   ],
   "source": [
    "gender_df = purchase_data.filter(['SN', 'Gender'])\n",
    "gender_df = gender_df.drop_duplicates()\n",
    "player_count = gender_df['SN'].nunique()\n",
    "gender_count = gender_df.groupby(['Gender']).size()\n",
    "male_count = gender_count.xs('Male')\n",
    "female_count = gender_count.xs('Female')\n",
    "other_count = gender_count.xs('Other / Non-Disclosed')\n",
    "male_percent = round((male_count/player_count)*100,2)\n",
    "female_percent = round((female_count/player_count)*100,2)\n",
    "other_percent = round((other_count/player_count)*100,2)\n",
    "\n",
    "total_count = [male_count, female_count, other_count]\n",
    "percent_players = [male_percent, female_percent, other_percent]\n",
    "data = {'Total Count': total_count, 'Percentage of Players': percent_players}\n",
    "gender_demo_df = pd.DataFrame(data)\n",
    "gender_demo_df = gender_demo_df.rename(index={0:'Male', 1:'Female', 2:'Other / Non-Disclosed'})\n",
    "gender_demo_df"
   ]
  },
  {
   "cell_type": "markdown",
   "metadata": {},
   "source": [
    "\n",
    "## Purchasing Analysis (Gender)"
   ]
  },
  {
   "cell_type": "markdown",
   "metadata": {},
   "source": [
    "* Run basic calculations to obtain purchase count, avg. purchase price, avg. purchase total per person etc. by gender\n",
    "\n",
    "\n",
    "\n",
    "\n",
    "* Create a summary data frame to hold the results\n",
    "\n",
    "\n",
    "* Optional: give the displayed data cleaner formatting\n",
    "\n",
    "\n",
    "* Display the summary data frame"
   ]
  },
  {
   "cell_type": "code",
   "execution_count": 138,
   "metadata": {},
   "outputs": [
    {
     "data": {
      "text/html": [
       "<div>\n",
       "<style scoped>\n",
       "    .dataframe tbody tr th:only-of-type {\n",
       "        vertical-align: middle;\n",
       "    }\n",
       "\n",
       "    .dataframe tbody tr th {\n",
       "        vertical-align: top;\n",
       "    }\n",
       "\n",
       "    .dataframe thead th {\n",
       "        text-align: right;\n",
       "    }\n",
       "</style>\n",
       "<table border=\"1\" class=\"dataframe\">\n",
       "  <thead>\n",
       "    <tr style=\"text-align: right;\">\n",
       "      <th></th>\n",
       "      <th>Purchase Count</th>\n",
       "      <th>Average Purchase Price</th>\n",
       "      <th>Total Purchase Value</th>\n",
       "      <th>Avg Total Purchase per Person</th>\n",
       "    </tr>\n",
       "    <tr>\n",
       "      <th>Gender</th>\n",
       "      <th></th>\n",
       "      <th></th>\n",
       "      <th></th>\n",
       "      <th></th>\n",
       "    </tr>\n",
       "  </thead>\n",
       "  <tbody>\n",
       "    <tr>\n",
       "      <th>Female</th>\n",
       "      <td>113</td>\n",
       "      <td>$3.2</td>\n",
       "      <td>$361.94</td>\n",
       "      <td>$4.47</td>\n",
       "    </tr>\n",
       "    <tr>\n",
       "      <th>Male</th>\n",
       "      <td>652</td>\n",
       "      <td>$3.02</td>\n",
       "      <td>$1967.64</td>\n",
       "      <td>$4.07</td>\n",
       "    </tr>\n",
       "    <tr>\n",
       "      <th>Other / Non-Disclosed</th>\n",
       "      <td>15</td>\n",
       "      <td>$3.35</td>\n",
       "      <td>$50.19</td>\n",
       "      <td>$4.56</td>\n",
       "    </tr>\n",
       "  </tbody>\n",
       "</table>\n",
       "</div>"
      ],
      "text/plain": [
       "                       Purchase Count Average Purchase Price  \\\n",
       "Gender                                                         \n",
       "Female                            113                   $3.2   \n",
       "Male                              652                  $3.02   \n",
       "Other / Non-Disclosed              15                  $3.35   \n",
       "\n",
       "                      Total Purchase Value Avg Total Purchase per Person  \n",
       "Gender                                                                    \n",
       "Female                             $361.94                         $4.47  \n",
       "Male                              $1967.64                         $4.07  \n",
       "Other / Non-Disclosed               $50.19                         $4.56  "
      ]
     },
     "execution_count": 138,
     "metadata": {},
     "output_type": "execute_result"
    }
   ],
   "source": [
    "purchase_gender_count = purchase_data.groupby(['Gender']).count()\n",
    "purchase_gender_count = purchase_gender_count.filter(['Purchase ID']).rename(columns={'Purchase ID': 'Purchase Count'})\n",
    "purchase_analysis = purchase_gender_count\n",
    "#print(purchase_gender_count)\n",
    "purchase_gender_mean = purchase_data.groupby(['Gender']).mean().filter(['Price']).round(2).rename(columns={'Price': 'Average Purchase Price'})\n",
    "purchase_gender_mean['Average Purchase Price'] = '$' + purchase_gender_mean['Average Purchase Price'].astype(str)\n",
    "#print(purchase_gender_mean)\n",
    "purchase_analysis['Average Purchase Price'] = purchase_gender_mean['Average Purchase Price']\n",
    "#print(purchase_analysis)\n",
    "purchase_gender_sum = purchase_data.groupby(['Gender']).sum().filter(['Price']).round(2).rename(columns={'Price': 'Total Purchase Value'})\n",
    "#purchase_gender_sum['Total Purchase Value'] = '$' + purchase_gender_sum['Total Purchase Value'].astype(str)\n",
    "#purchase_analysis['Total Purchase Value'] = purchase_gender_sum['Total Purchase Value']\n",
    "#print(purchase_analysis)\n",
    "#female_person_avg = \"$\" + str((purchase_gender_sum['Total Purchase Value'].xs('Female')/female_count).round(2))\n",
    "#male_person_avg = \"$\" + str((purchase_gender_sum['Total Purchase Value'].xs('Male')/female_count).round(2))\n",
    "#other_person_avg = \"$\" + str((purchase_gender_sum['Total Purchase Value'].xs('Other / Non-Disclosed')/female_count).round(2))\n",
    "female_person_avg = round(purchase_gender_sum['Total Purchase Value'].xs('Female')/female_count, 2)\n",
    "male_person_avg = round(purchase_gender_sum['Total Purchase Value'].xs('Male')/male_count, 2)\n",
    "other_person_avg = round(purchase_gender_sum['Total Purchase Value'].xs('Other / Non-Disclosed')/other_count, 2)\n",
    "gender_person_avg = [female_person_avg, male_person_avg, other_person_avg]\n",
    "#print(gender_person_avg)\n",
    "#gender_person_avg_df = pd.DataFrame([[gender_person_avg]], columns=['Avg Total Purchase per Person'])\n",
    "gender_person_avg_df = pd.DataFrame({'Avg Total Purchase per Person': gender_person_avg})\n",
    "gender_person_avg_df['Avg Total Purchase per Person'] = '$' + gender_person_avg_df['Avg Total Purchase per Person'].astype(str)\n",
    "gender_person_avg_df.index.name = \"Gender\"\n",
    "gender_person_avg_df = gender_person_avg_df.rename(index={0:'Female', 1:'Male', 2:'Other / Non-Disclosed'})\n",
    "#print(gender_person_avg_df)\n",
    "purchase_gender_sum['Total Purchase Value'] = '$' + purchase_gender_sum['Total Purchase Value'].astype(str)\n",
    "purchase_analysis['Total Purchase Value'] = purchase_gender_sum['Total Purchase Value']\n",
    "purchase_analysis['Avg Total Purchase per Person'] = gender_person_avg_df['Avg Total Purchase per Person']\n",
    "purchase_analysis"
   ]
  },
  {
   "cell_type": "markdown",
   "metadata": {},
   "source": [
    "## Age Demographics"
   ]
  },
  {
   "cell_type": "markdown",
   "metadata": {},
   "source": [
    "* Establish bins for ages\n",
    "\n",
    "\n",
    "* Categorize the existing players using the age bins. Hint: use pd.cut()\n",
    "\n",
    "\n",
    "* Calculate the numbers and percentages by age group\n",
    "\n",
    "\n",
    "* Create a summary data frame to hold the results\n",
    "\n",
    "\n",
    "* Optional: round the percentage column to two decimal points\n",
    "\n",
    "\n",
    "* Display Age Demographics Table\n"
   ]
  },
  {
   "cell_type": "code",
   "execution_count": 140,
   "metadata": {},
   "outputs": [
    {
     "data": {
      "text/html": [
       "<div>\n",
       "<style scoped>\n",
       "    .dataframe tbody tr th:only-of-type {\n",
       "        vertical-align: middle;\n",
       "    }\n",
       "\n",
       "    .dataframe tbody tr th {\n",
       "        vertical-align: top;\n",
       "    }\n",
       "\n",
       "    .dataframe thead th {\n",
       "        text-align: right;\n",
       "    }\n",
       "</style>\n",
       "<table border=\"1\" class=\"dataframe\">\n",
       "  <thead>\n",
       "    <tr style=\"text-align: right;\">\n",
       "      <th></th>\n",
       "      <th>Total Count</th>\n",
       "      <th>Percentage of Players</th>\n",
       "    </tr>\n",
       "  </thead>\n",
       "  <tbody>\n",
       "    <tr>\n",
       "      <th>&lt;10</th>\n",
       "      <td>17</td>\n",
       "      <td>2.95</td>\n",
       "    </tr>\n",
       "    <tr>\n",
       "      <th>10-14</th>\n",
       "      <td>22</td>\n",
       "      <td>3.82</td>\n",
       "    </tr>\n",
       "    <tr>\n",
       "      <th>15-19</th>\n",
       "      <td>107</td>\n",
       "      <td>18.58</td>\n",
       "    </tr>\n",
       "    <tr>\n",
       "      <th>20-24</th>\n",
       "      <td>258</td>\n",
       "      <td>44.79</td>\n",
       "    </tr>\n",
       "    <tr>\n",
       "      <th>25-29</th>\n",
       "      <td>77</td>\n",
       "      <td>13.37</td>\n",
       "    </tr>\n",
       "    <tr>\n",
       "      <th>30-34</th>\n",
       "      <td>52</td>\n",
       "      <td>9.03</td>\n",
       "    </tr>\n",
       "    <tr>\n",
       "      <th>35-39</th>\n",
       "      <td>31</td>\n",
       "      <td>5.38</td>\n",
       "    </tr>\n",
       "    <tr>\n",
       "      <th>40+</th>\n",
       "      <td>12</td>\n",
       "      <td>2.08</td>\n",
       "    </tr>\n",
       "  </tbody>\n",
       "</table>\n",
       "</div>"
      ],
      "text/plain": [
       "       Total Count  Percentage of Players\n",
       "<10             17                   2.95\n",
       "10-14           22                   3.82\n",
       "15-19          107                  18.58\n",
       "20-24          258                  44.79\n",
       "25-29           77                  13.37\n",
       "30-34           52                   9.03\n",
       "35-39           31                   5.38\n",
       "40+             12                   2.08"
      ]
     },
     "execution_count": 140,
     "metadata": {},
     "output_type": "execute_result"
    }
   ],
   "source": [
    "#age_bin = [0, 9.90, 14.90, 19.90, 24.90, 29.90, 34.90, 39.90, 100]\n",
    "age_bin = [0, 9, 14, 19, 24, 29, 34, 39, 100]\n",
    "age_group_row = [\"<10\", \"10-14\", \"15-19\", \"20-24\", \"25-29\", \"30-34\", \"35-39\", \"40+\"]\n",
    "purchase_data[\"Group Name\"] = pd.cut(purchase_data[\"Age\"],age_bin, labels=age_group_row)\n",
    "#print(purchase_data)\n",
    "age_group_df = purchase_data.groupby([\"Group Name\"])\n",
    "group_name_count = age_group_df[\"SN\"].nunique()\n",
    "#print(group_name_count)\n",
    "u_ten_percent = round((group_name_count.xs('<10')/player_count)*100,2)\n",
    "ten_frtn_percent  = round((group_name_count.xs('10-14')/player_count)*100,2)\n",
    "ftn_ntn_percent = round((group_name_count.xs('15-19')/player_count)*100,2)\n",
    "twn_tfr_percent = round((group_name_count.xs('20-24')/player_count)*100,2)\n",
    "tfv_tn_percent = round((group_name_count.xs('25-29')/player_count)*100,2)\n",
    "try_tfr_percent = round((group_name_count.xs('30-34')/player_count)*100,2)\n",
    "tfv_trn_percent = round((group_name_count.xs('35-39')/player_count)*100,2)\n",
    "fty_percent = round((group_name_count.xs('40+')/player_count)*100,2)\n",
    "age_percent = [u_ten_percent, ten_frtn_percent, ftn_ntn_percent, twn_tfr_percent, tfv_tn_percent, try_tfr_percent, tfv_trn_percent, fty_percent]\n",
    "#print(age_percent)\n",
    "age_count_percent_df = pd.DataFrame({\"Total Count\": group_name_count, \"Percentage of Players\": age_percent})\n",
    "age_count_percent_df.index.name = None\n",
    "age_count_percent_df"
   ]
  },
  {
   "cell_type": "markdown",
   "metadata": {},
   "source": [
    "## Purchasing Analysis (Age)"
   ]
  },
  {
   "cell_type": "markdown",
   "metadata": {},
   "source": [
    "* Bin the purchase_data data frame by age\n",
    "\n",
    "\n",
    "* Run basic calculations to obtain purchase count, avg. purchase price, avg. purchase total per person etc. in the table below\n",
    "\n",
    "\n",
    "* Create a summary data frame to hold the results\n",
    "\n",
    "\n",
    "* Optional: give the displayed data cleaner formatting\n",
    "\n",
    "\n",
    "* Display the summary data frame"
   ]
  },
  {
   "cell_type": "code",
   "execution_count": 141,
   "metadata": {},
   "outputs": [
    {
     "data": {
      "text/html": [
       "<style  type=\"text/css\" >\n",
       "</style>  \n",
       "<table id=\"T_1afbdc50_dff2_11e8_a4bb_5cf9389b0098\" > \n",
       "<thead>    <tr> \n",
       "        <th class=\"blank level0\" ></th> \n",
       "        <th class=\"col_heading level0 col0\" >Purchase Count</th> \n",
       "        <th class=\"col_heading level0 col1\" >Average Purchase Price</th> \n",
       "        <th class=\"col_heading level0 col2\" >Total Purchase Value</th> \n",
       "        <th class=\"col_heading level0 col3\" >Average Purchase Total per Person</th> \n",
       "    </tr></thead> \n",
       "<tbody>    <tr> \n",
       "        <th id=\"T_1afbdc50_dff2_11e8_a4bb_5cf9389b0098level0_row0\" class=\"row_heading level0 row0\" ><10</th> \n",
       "        <td id=\"T_1afbdc50_dff2_11e8_a4bb_5cf9389b0098row0_col0\" class=\"data row0 col0\" >23</td> \n",
       "        <td id=\"T_1afbdc50_dff2_11e8_a4bb_5cf9389b0098row0_col1\" class=\"data row0 col1\" >$3.35</td> \n",
       "        <td id=\"T_1afbdc50_dff2_11e8_a4bb_5cf9389b0098row0_col2\" class=\"data row0 col2\" >$77.13</td> \n",
       "        <td id=\"T_1afbdc50_dff2_11e8_a4bb_5cf9389b0098row0_col3\" class=\"data row0 col3\" >$4.54</td> \n",
       "    </tr>    <tr> \n",
       "        <th id=\"T_1afbdc50_dff2_11e8_a4bb_5cf9389b0098level0_row1\" class=\"row_heading level0 row1\" >10-14</th> \n",
       "        <td id=\"T_1afbdc50_dff2_11e8_a4bb_5cf9389b0098row1_col0\" class=\"data row1 col0\" >28</td> \n",
       "        <td id=\"T_1afbdc50_dff2_11e8_a4bb_5cf9389b0098row1_col1\" class=\"data row1 col1\" >$2.96</td> \n",
       "        <td id=\"T_1afbdc50_dff2_11e8_a4bb_5cf9389b0098row1_col2\" class=\"data row1 col2\" >$82.78</td> \n",
       "        <td id=\"T_1afbdc50_dff2_11e8_a4bb_5cf9389b0098row1_col3\" class=\"data row1 col3\" >$3.76</td> \n",
       "    </tr>    <tr> \n",
       "        <th id=\"T_1afbdc50_dff2_11e8_a4bb_5cf9389b0098level0_row2\" class=\"row_heading level0 row2\" >15-19</th> \n",
       "        <td id=\"T_1afbdc50_dff2_11e8_a4bb_5cf9389b0098row2_col0\" class=\"data row2 col0\" >136</td> \n",
       "        <td id=\"T_1afbdc50_dff2_11e8_a4bb_5cf9389b0098row2_col1\" class=\"data row2 col1\" >$3.04</td> \n",
       "        <td id=\"T_1afbdc50_dff2_11e8_a4bb_5cf9389b0098row2_col2\" class=\"data row2 col2\" >$412.89</td> \n",
       "        <td id=\"T_1afbdc50_dff2_11e8_a4bb_5cf9389b0098row2_col3\" class=\"data row2 col3\" >$3.86</td> \n",
       "    </tr>    <tr> \n",
       "        <th id=\"T_1afbdc50_dff2_11e8_a4bb_5cf9389b0098level0_row3\" class=\"row_heading level0 row3\" >20-24</th> \n",
       "        <td id=\"T_1afbdc50_dff2_11e8_a4bb_5cf9389b0098row3_col0\" class=\"data row3 col0\" >365</td> \n",
       "        <td id=\"T_1afbdc50_dff2_11e8_a4bb_5cf9389b0098row3_col1\" class=\"data row3 col1\" >$3.05</td> \n",
       "        <td id=\"T_1afbdc50_dff2_11e8_a4bb_5cf9389b0098row3_col2\" class=\"data row3 col2\" >$1,114.06</td> \n",
       "        <td id=\"T_1afbdc50_dff2_11e8_a4bb_5cf9389b0098row3_col3\" class=\"data row3 col3\" >$4.32</td> \n",
       "    </tr>    <tr> \n",
       "        <th id=\"T_1afbdc50_dff2_11e8_a4bb_5cf9389b0098level0_row4\" class=\"row_heading level0 row4\" >25-29</th> \n",
       "        <td id=\"T_1afbdc50_dff2_11e8_a4bb_5cf9389b0098row4_col0\" class=\"data row4 col0\" >101</td> \n",
       "        <td id=\"T_1afbdc50_dff2_11e8_a4bb_5cf9389b0098row4_col1\" class=\"data row4 col1\" >$2.9</td> \n",
       "        <td id=\"T_1afbdc50_dff2_11e8_a4bb_5cf9389b0098row4_col2\" class=\"data row4 col2\" >$293.00</td> \n",
       "        <td id=\"T_1afbdc50_dff2_11e8_a4bb_5cf9389b0098row4_col3\" class=\"data row4 col3\" >$3.81</td> \n",
       "    </tr>    <tr> \n",
       "        <th id=\"T_1afbdc50_dff2_11e8_a4bb_5cf9389b0098level0_row5\" class=\"row_heading level0 row5\" >30-34</th> \n",
       "        <td id=\"T_1afbdc50_dff2_11e8_a4bb_5cf9389b0098row5_col0\" class=\"data row5 col0\" >73</td> \n",
       "        <td id=\"T_1afbdc50_dff2_11e8_a4bb_5cf9389b0098row5_col1\" class=\"data row5 col1\" >$2.93</td> \n",
       "        <td id=\"T_1afbdc50_dff2_11e8_a4bb_5cf9389b0098row5_col2\" class=\"data row5 col2\" >$214.00</td> \n",
       "        <td id=\"T_1afbdc50_dff2_11e8_a4bb_5cf9389b0098row5_col3\" class=\"data row5 col3\" >$4.12</td> \n",
       "    </tr>    <tr> \n",
       "        <th id=\"T_1afbdc50_dff2_11e8_a4bb_5cf9389b0098level0_row6\" class=\"row_heading level0 row6\" >35-39</th> \n",
       "        <td id=\"T_1afbdc50_dff2_11e8_a4bb_5cf9389b0098row6_col0\" class=\"data row6 col0\" >41</td> \n",
       "        <td id=\"T_1afbdc50_dff2_11e8_a4bb_5cf9389b0098row6_col1\" class=\"data row6 col1\" >$3.6</td> \n",
       "        <td id=\"T_1afbdc50_dff2_11e8_a4bb_5cf9389b0098row6_col2\" class=\"data row6 col2\" >$147.67</td> \n",
       "        <td id=\"T_1afbdc50_dff2_11e8_a4bb_5cf9389b0098row6_col3\" class=\"data row6 col3\" >$4.76</td> \n",
       "    </tr>    <tr> \n",
       "        <th id=\"T_1afbdc50_dff2_11e8_a4bb_5cf9389b0098level0_row7\" class=\"row_heading level0 row7\" >40+</th> \n",
       "        <td id=\"T_1afbdc50_dff2_11e8_a4bb_5cf9389b0098row7_col0\" class=\"data row7 col0\" >13</td> \n",
       "        <td id=\"T_1afbdc50_dff2_11e8_a4bb_5cf9389b0098row7_col1\" class=\"data row7 col1\" >$2.94</td> \n",
       "        <td id=\"T_1afbdc50_dff2_11e8_a4bb_5cf9389b0098row7_col2\" class=\"data row7 col2\" >$38.24</td> \n",
       "        <td id=\"T_1afbdc50_dff2_11e8_a4bb_5cf9389b0098row7_col3\" class=\"data row7 col3\" >$3.19</td> \n",
       "    </tr></tbody> \n",
       "</table> "
      ],
      "text/plain": [
       "<pandas.io.formats.style.Styler at 0x117635278>"
      ]
     },
     "execution_count": 141,
     "metadata": {},
     "output_type": "execute_result"
    }
   ],
   "source": [
    "purchase_count = age_group_df['Purchase ID'].count()\n",
    "#print(purchase_count)\n",
    "avg_purchase_price = age_group_df['Price'].mean().round(2)\n",
    "#print(avg_purchase_price)\n",
    "total_grp_purchase_value = age_group_df['Price'].sum().round(2)\n",
    "#print(total_grp_purchase_value)\n",
    "age_grp_person_avg = (total_grp_purchase_value/group_name_count).round(2)\n",
    "#print(age_grp_person_avg)\n",
    "purchase_analysis_age = pd.DataFrame({\"Purchase Count\": purchase_count, \"Average Purchase Price\": avg_purchase_price, \"Total Purchase Value\":total_grp_purchase_value, \"Average Purchase Total per Person\": age_grp_person_avg})\n",
    "purchase_analysis_age.index.name = None\n",
    "purchase_analysis_age.style.format({\"Average Purchase Price\":\"${:}\", \"Total Purchase Value\":\"${:,.2f}\", \"Average Purchase Total per Person\":\"${:,.2f}\"})"
   ]
  },
  {
   "cell_type": "markdown",
   "metadata": {},
   "source": [
    "## Top Spenders"
   ]
  },
  {
   "cell_type": "markdown",
   "metadata": {},
   "source": [
    "* Run basic calculations to obtain the results in the table below\n",
    "\n",
    "\n",
    "* Create a summary data frame to hold the results\n",
    "\n",
    "\n",
    "* Sort the total purchase value column in descending order\n",
    "\n",
    "\n",
    "* Optional: give the displayed data cleaner formatting\n",
    "\n",
    "\n",
    "* Display a preview of the summary data frame\n",
    "\n"
   ]
  },
  {
   "cell_type": "code",
   "execution_count": 142,
   "metadata": {},
   "outputs": [
    {
     "data": {
      "text/html": [
       "<style  type=\"text/css\" >\n",
       "</style>  \n",
       "<table id=\"T_7d446e2c_dff2_11e8_a4bb_5cf9389b0098\" > \n",
       "<thead>    <tr> \n",
       "        <th class=\"blank level0\" ></th> \n",
       "        <th class=\"col_heading level0 col0\" >Purchase Count</th> \n",
       "        <th class=\"col_heading level0 col1\" >Average Purchase Price</th> \n",
       "        <th class=\"col_heading level0 col2\" >Total Purchase Value</th> \n",
       "    </tr>    <tr> \n",
       "        <th class=\"index_name level0\" >SN</th> \n",
       "        <th class=\"blank\" ></th> \n",
       "        <th class=\"blank\" ></th> \n",
       "        <th class=\"blank\" ></th> \n",
       "    </tr></thead> \n",
       "<tbody>    <tr> \n",
       "        <th id=\"T_7d446e2c_dff2_11e8_a4bb_5cf9389b0098level0_row0\" class=\"row_heading level0 row0\" >Lisosia93</th> \n",
       "        <td id=\"T_7d446e2c_dff2_11e8_a4bb_5cf9389b0098row0_col0\" class=\"data row0 col0\" >5</td> \n",
       "        <td id=\"T_7d446e2c_dff2_11e8_a4bb_5cf9389b0098row0_col1\" class=\"data row0 col1\" >$3.79</td> \n",
       "        <td id=\"T_7d446e2c_dff2_11e8_a4bb_5cf9389b0098row0_col2\" class=\"data row0 col2\" >$18.96</td> \n",
       "    </tr>    <tr> \n",
       "        <th id=\"T_7d446e2c_dff2_11e8_a4bb_5cf9389b0098level0_row1\" class=\"row_heading level0 row1\" >Idastidru52</th> \n",
       "        <td id=\"T_7d446e2c_dff2_11e8_a4bb_5cf9389b0098row1_col0\" class=\"data row1 col0\" >4</td> \n",
       "        <td id=\"T_7d446e2c_dff2_11e8_a4bb_5cf9389b0098row1_col1\" class=\"data row1 col1\" >$3.86</td> \n",
       "        <td id=\"T_7d446e2c_dff2_11e8_a4bb_5cf9389b0098row1_col2\" class=\"data row1 col2\" >$15.45</td> \n",
       "    </tr>    <tr> \n",
       "        <th id=\"T_7d446e2c_dff2_11e8_a4bb_5cf9389b0098level0_row2\" class=\"row_heading level0 row2\" >Chamjask73</th> \n",
       "        <td id=\"T_7d446e2c_dff2_11e8_a4bb_5cf9389b0098row2_col0\" class=\"data row2 col0\" >3</td> \n",
       "        <td id=\"T_7d446e2c_dff2_11e8_a4bb_5cf9389b0098row2_col1\" class=\"data row2 col1\" >$4.61</td> \n",
       "        <td id=\"T_7d446e2c_dff2_11e8_a4bb_5cf9389b0098row2_col2\" class=\"data row2 col2\" >$13.83</td> \n",
       "    </tr>    <tr> \n",
       "        <th id=\"T_7d446e2c_dff2_11e8_a4bb_5cf9389b0098level0_row3\" class=\"row_heading level0 row3\" >Iral74</th> \n",
       "        <td id=\"T_7d446e2c_dff2_11e8_a4bb_5cf9389b0098row3_col0\" class=\"data row3 col0\" >4</td> \n",
       "        <td id=\"T_7d446e2c_dff2_11e8_a4bb_5cf9389b0098row3_col1\" class=\"data row3 col1\" >$3.4</td> \n",
       "        <td id=\"T_7d446e2c_dff2_11e8_a4bb_5cf9389b0098row3_col2\" class=\"data row3 col2\" >$13.62</td> \n",
       "    </tr>    <tr> \n",
       "        <th id=\"T_7d446e2c_dff2_11e8_a4bb_5cf9389b0098level0_row4\" class=\"row_heading level0 row4\" >Iskadarya95</th> \n",
       "        <td id=\"T_7d446e2c_dff2_11e8_a4bb_5cf9389b0098row4_col0\" class=\"data row4 col0\" >3</td> \n",
       "        <td id=\"T_7d446e2c_dff2_11e8_a4bb_5cf9389b0098row4_col1\" class=\"data row4 col1\" >$4.37</td> \n",
       "        <td id=\"T_7d446e2c_dff2_11e8_a4bb_5cf9389b0098row4_col2\" class=\"data row4 col2\" >$13.1</td> \n",
       "    </tr></tbody> \n",
       "</table> "
      ],
      "text/plain": [
       "<pandas.io.formats.style.Styler at 0x117777908>"
      ]
     },
     "execution_count": 142,
     "metadata": {},
     "output_type": "execute_result"
    }
   ],
   "source": [
    "spender_name_count = purchase_data.groupby(['SN']).count().filter(['Purchase ID']).rename(columns={'Purchase ID': 'Purchase Count'})\n",
    "#print(spender_name_count)\n",
    "top_spenders = spender_name_count\n",
    "spender_mean_val = purchase_data.groupby(['SN']).mean().filter(['Price']).round(2).rename(columns={'Price': 'Average Purchase Price'})\n",
    "#print(avg_purchase_price_spender)\n",
    "top_spenders['Average Purchase Price'] = spender_mean_val['Average Purchase Price']\n",
    "spender_sum_val = purchase_data.groupby(['SN']).sum().filter(['Price']).round(2).rename(columns={'Price': 'Total Purchase Value'})\n",
    "#print(spender_sum_val)\n",
    "top_spenders['Total Purchase Value'] = spender_sum_val['Total Purchase Value']\n",
    "top_spenders = top_spenders.sort_values(['Total Purchase Value'], ascending=False).head(5)\n",
    "top_spenders.style.format({\"Average Purchase Price\":\"${:}\", \"Total Purchase Value\":\"${:}\"})"
   ]
  },
  {
   "cell_type": "markdown",
   "metadata": {},
   "source": [
    "## Most Popular Items"
   ]
  },
  {
   "cell_type": "markdown",
   "metadata": {},
   "source": [
    "* Retrieve the Item ID, Item Name, and Item Price columns\n",
    "\n",
    "\n",
    "* Group by Item ID and Item Name. Perform calculations to obtain purchase count, item price, and total purchase value\n",
    "\n",
    "\n",
    "* Create a summary data frame to hold the results\n",
    "\n",
    "\n",
    "* Sort the purchase count column in descending order\n",
    "\n",
    "\n",
    "* Optional: give the displayed data cleaner formatting\n",
    "\n",
    "\n",
    "* Display a preview of the summary data frame\n",
    "\n"
   ]
  },
  {
   "cell_type": "code",
   "execution_count": 147,
   "metadata": {},
   "outputs": [
    {
     "data": {
      "text/html": [
       "<style  type=\"text/css\" >\n",
       "</style>  \n",
       "<table id=\"T_3464031a_dff3_11e8_a4bb_5cf9389b0098\" > \n",
       "<thead>    <tr> \n",
       "        <th class=\"blank\" ></th> \n",
       "        <th class=\"blank level0\" ></th> \n",
       "        <th class=\"col_heading level0 col0\" >Purchase Count</th> \n",
       "        <th class=\"col_heading level0 col1\" >Item Price</th> \n",
       "        <th class=\"col_heading level0 col2\" >Total Purchase Value</th> \n",
       "    </tr>    <tr> \n",
       "        <th class=\"index_name level0\" >Item ID</th> \n",
       "        <th class=\"index_name level1\" >Item Name</th> \n",
       "        <th class=\"blank\" ></th> \n",
       "        <th class=\"blank\" ></th> \n",
       "        <th class=\"blank\" ></th> \n",
       "    </tr></thead> \n",
       "<tbody>    <tr> \n",
       "        <th id=\"T_3464031a_dff3_11e8_a4bb_5cf9389b0098level0_row0\" class=\"row_heading level0 row0\" >178</th> \n",
       "        <th id=\"T_3464031a_dff3_11e8_a4bb_5cf9389b0098level1_row0\" class=\"row_heading level1 row0\" >Oathbreaker, Last Hope of the Breaking Storm</th> \n",
       "        <td id=\"T_3464031a_dff3_11e8_a4bb_5cf9389b0098row0_col0\" class=\"data row0 col0\" >12</td> \n",
       "        <td id=\"T_3464031a_dff3_11e8_a4bb_5cf9389b0098row0_col1\" class=\"data row0 col1\" >$4.23</td> \n",
       "        <td id=\"T_3464031a_dff3_11e8_a4bb_5cf9389b0098row0_col2\" class=\"data row0 col2\" >$50.76</td> \n",
       "    </tr>    <tr> \n",
       "        <th id=\"T_3464031a_dff3_11e8_a4bb_5cf9389b0098level0_row1\" class=\"row_heading level0 row1\" >145</th> \n",
       "        <th id=\"T_3464031a_dff3_11e8_a4bb_5cf9389b0098level1_row1\" class=\"row_heading level1 row1\" >Fiery Glass Crusader</th> \n",
       "        <td id=\"T_3464031a_dff3_11e8_a4bb_5cf9389b0098row1_col0\" class=\"data row1 col0\" >9</td> \n",
       "        <td id=\"T_3464031a_dff3_11e8_a4bb_5cf9389b0098row1_col1\" class=\"data row1 col1\" >$4.58</td> \n",
       "        <td id=\"T_3464031a_dff3_11e8_a4bb_5cf9389b0098row1_col2\" class=\"data row1 col2\" >$41.22</td> \n",
       "    </tr>    <tr> \n",
       "        <th id=\"T_3464031a_dff3_11e8_a4bb_5cf9389b0098level0_row2\" class=\"row_heading level0 row2\" >108</th> \n",
       "        <th id=\"T_3464031a_dff3_11e8_a4bb_5cf9389b0098level1_row2\" class=\"row_heading level1 row2\" >Extraction, Quickblade Of Trembling Hands</th> \n",
       "        <td id=\"T_3464031a_dff3_11e8_a4bb_5cf9389b0098row2_col0\" class=\"data row2 col0\" >9</td> \n",
       "        <td id=\"T_3464031a_dff3_11e8_a4bb_5cf9389b0098row2_col1\" class=\"data row2 col1\" >$3.53</td> \n",
       "        <td id=\"T_3464031a_dff3_11e8_a4bb_5cf9389b0098row2_col2\" class=\"data row2 col2\" >$31.77</td> \n",
       "    </tr>    <tr> \n",
       "        <th id=\"T_3464031a_dff3_11e8_a4bb_5cf9389b0098level0_row3\" class=\"row_heading level0 row3\" >82</th> \n",
       "        <th id=\"T_3464031a_dff3_11e8_a4bb_5cf9389b0098level1_row3\" class=\"row_heading level1 row3\" >Nirvana</th> \n",
       "        <td id=\"T_3464031a_dff3_11e8_a4bb_5cf9389b0098row3_col0\" class=\"data row3 col0\" >9</td> \n",
       "        <td id=\"T_3464031a_dff3_11e8_a4bb_5cf9389b0098row3_col1\" class=\"data row3 col1\" >$4.9</td> \n",
       "        <td id=\"T_3464031a_dff3_11e8_a4bb_5cf9389b0098row3_col2\" class=\"data row3 col2\" >$44.1</td> \n",
       "    </tr>    <tr> \n",
       "        <th id=\"T_3464031a_dff3_11e8_a4bb_5cf9389b0098level0_row4\" class=\"row_heading level0 row4\" >19</th> \n",
       "        <th id=\"T_3464031a_dff3_11e8_a4bb_5cf9389b0098level1_row4\" class=\"row_heading level1 row4\" >Pursuit, Cudgel of Necromancy</th> \n",
       "        <td id=\"T_3464031a_dff3_11e8_a4bb_5cf9389b0098row4_col0\" class=\"data row4 col0\" >8</td> \n",
       "        <td id=\"T_3464031a_dff3_11e8_a4bb_5cf9389b0098row4_col1\" class=\"data row4 col1\" >$1.02</td> \n",
       "        <td id=\"T_3464031a_dff3_11e8_a4bb_5cf9389b0098row4_col2\" class=\"data row4 col2\" >$8.16</td> \n",
       "    </tr></tbody> \n",
       "</table> "
      ],
      "text/plain": [
       "<pandas.io.formats.style.Styler at 0x1177c07f0>"
      ]
     },
     "execution_count": 147,
     "metadata": {},
     "output_type": "execute_result"
    }
   ],
   "source": [
    "item_details_df = purchase_data.filter(['Item ID', 'Item Name', 'Price'])\n",
    "items_grp = item_details_df.groupby([\"Item ID\",\"Item Name\"])\n",
    "items_count = items_grp[\"Price\"].count()\n",
    "items_total_value = items_grp[\"Price\"].sum().round(2)\n",
    "items_price = round(items_total_value/items_count, 2)\n",
    "\n",
    "popular_items = pd.DataFrame({\"Purchase Count\": items_count, \"Item Price\": items_price, \"Total Purchase Value\":items_total_value})\n",
    "most_popular_items = popular_items.sort_values([\"Purchase Count\"], ascending=False).head(5)\n",
    "most_popular_items.style.format({\"Item Price\":\"${:}\", \"Total Purchase Value\":\"${:}\"})"
   ]
  },
  {
   "cell_type": "markdown",
   "metadata": {},
   "source": [
    "## Most Profitable Items"
   ]
  },
  {
   "cell_type": "markdown",
   "metadata": {},
   "source": [
    "* Sort the above table by total purchase value in descending order\n",
    "\n",
    "\n",
    "* Optional: give the displayed data cleaner formatting\n",
    "\n",
    "\n",
    "* Display a preview of the data frame\n",
    "\n"
   ]
  },
  {
   "cell_type": "code",
   "execution_count": 148,
   "metadata": {
    "scrolled": true
   },
   "outputs": [
    {
     "data": {
      "text/html": [
       "<style  type=\"text/css\" >\n",
       "</style>  \n",
       "<table id=\"T_59ca6342_dff3_11e8_a4bb_5cf9389b0098\" > \n",
       "<thead>    <tr> \n",
       "        <th class=\"blank\" ></th> \n",
       "        <th class=\"blank level0\" ></th> \n",
       "        <th class=\"col_heading level0 col0\" >Purchase Count</th> \n",
       "        <th class=\"col_heading level0 col1\" >Item Price</th> \n",
       "        <th class=\"col_heading level0 col2\" >Total Purchase Value</th> \n",
       "    </tr>    <tr> \n",
       "        <th class=\"index_name level0\" >Item ID</th> \n",
       "        <th class=\"index_name level1\" >Item Name</th> \n",
       "        <th class=\"blank\" ></th> \n",
       "        <th class=\"blank\" ></th> \n",
       "        <th class=\"blank\" ></th> \n",
       "    </tr></thead> \n",
       "<tbody>    <tr> \n",
       "        <th id=\"T_59ca6342_dff3_11e8_a4bb_5cf9389b0098level0_row0\" class=\"row_heading level0 row0\" >178</th> \n",
       "        <th id=\"T_59ca6342_dff3_11e8_a4bb_5cf9389b0098level1_row0\" class=\"row_heading level1 row0\" >Oathbreaker, Last Hope of the Breaking Storm</th> \n",
       "        <td id=\"T_59ca6342_dff3_11e8_a4bb_5cf9389b0098row0_col0\" class=\"data row0 col0\" >12</td> \n",
       "        <td id=\"T_59ca6342_dff3_11e8_a4bb_5cf9389b0098row0_col1\" class=\"data row0 col1\" >$4.23</td> \n",
       "        <td id=\"T_59ca6342_dff3_11e8_a4bb_5cf9389b0098row0_col2\" class=\"data row0 col2\" >$50.76</td> \n",
       "    </tr>    <tr> \n",
       "        <th id=\"T_59ca6342_dff3_11e8_a4bb_5cf9389b0098level0_row1\" class=\"row_heading level0 row1\" >82</th> \n",
       "        <th id=\"T_59ca6342_dff3_11e8_a4bb_5cf9389b0098level1_row1\" class=\"row_heading level1 row1\" >Nirvana</th> \n",
       "        <td id=\"T_59ca6342_dff3_11e8_a4bb_5cf9389b0098row1_col0\" class=\"data row1 col0\" >9</td> \n",
       "        <td id=\"T_59ca6342_dff3_11e8_a4bb_5cf9389b0098row1_col1\" class=\"data row1 col1\" >$4.9</td> \n",
       "        <td id=\"T_59ca6342_dff3_11e8_a4bb_5cf9389b0098row1_col2\" class=\"data row1 col2\" >$44.1</td> \n",
       "    </tr>    <tr> \n",
       "        <th id=\"T_59ca6342_dff3_11e8_a4bb_5cf9389b0098level0_row2\" class=\"row_heading level0 row2\" >145</th> \n",
       "        <th id=\"T_59ca6342_dff3_11e8_a4bb_5cf9389b0098level1_row2\" class=\"row_heading level1 row2\" >Fiery Glass Crusader</th> \n",
       "        <td id=\"T_59ca6342_dff3_11e8_a4bb_5cf9389b0098row2_col0\" class=\"data row2 col0\" >9</td> \n",
       "        <td id=\"T_59ca6342_dff3_11e8_a4bb_5cf9389b0098row2_col1\" class=\"data row2 col1\" >$4.58</td> \n",
       "        <td id=\"T_59ca6342_dff3_11e8_a4bb_5cf9389b0098row2_col2\" class=\"data row2 col2\" >$41.22</td> \n",
       "    </tr>    <tr> \n",
       "        <th id=\"T_59ca6342_dff3_11e8_a4bb_5cf9389b0098level0_row3\" class=\"row_heading level0 row3\" >92</th> \n",
       "        <th id=\"T_59ca6342_dff3_11e8_a4bb_5cf9389b0098level1_row3\" class=\"row_heading level1 row3\" >Final Critic</th> \n",
       "        <td id=\"T_59ca6342_dff3_11e8_a4bb_5cf9389b0098row3_col0\" class=\"data row3 col0\" >8</td> \n",
       "        <td id=\"T_59ca6342_dff3_11e8_a4bb_5cf9389b0098row3_col1\" class=\"data row3 col1\" >$4.88</td> \n",
       "        <td id=\"T_59ca6342_dff3_11e8_a4bb_5cf9389b0098row3_col2\" class=\"data row3 col2\" >$39.04</td> \n",
       "    </tr>    <tr> \n",
       "        <th id=\"T_59ca6342_dff3_11e8_a4bb_5cf9389b0098level0_row4\" class=\"row_heading level0 row4\" >103</th> \n",
       "        <th id=\"T_59ca6342_dff3_11e8_a4bb_5cf9389b0098level1_row4\" class=\"row_heading level1 row4\" >Singed Scalpel</th> \n",
       "        <td id=\"T_59ca6342_dff3_11e8_a4bb_5cf9389b0098row4_col0\" class=\"data row4 col0\" >8</td> \n",
       "        <td id=\"T_59ca6342_dff3_11e8_a4bb_5cf9389b0098row4_col1\" class=\"data row4 col1\" >$4.35</td> \n",
       "        <td id=\"T_59ca6342_dff3_11e8_a4bb_5cf9389b0098row4_col2\" class=\"data row4 col2\" >$34.8</td> \n",
       "    </tr></tbody> \n",
       "</table> "
      ],
      "text/plain": [
       "<pandas.io.formats.style.Styler at 0x1177eca58>"
      ]
     },
     "execution_count": 148,
     "metadata": {},
     "output_type": "execute_result"
    }
   ],
   "source": [
    "most_profitable_items = popular_items.sort_values([\"Total Purchase Value\"], ascending=False).head(5)\n",
    "most_profitable_items.style.format({\"Item Price\":\"${:}\", \"Total Purchase Value\":\"${:}\"})"
   ]
  }
 ],
 "metadata": {
  "anaconda-cloud": {},
  "kernel_info": {
   "name": "python3"
  },
  "kernelspec": {
   "display_name": "Python 3",
   "language": "python",
   "name": "python3"
  },
  "language_info": {
   "codemirror_mode": {
    "name": "ipython",
    "version": 3
   },
   "file_extension": ".py",
   "mimetype": "text/x-python",
   "name": "python",
   "nbconvert_exporter": "python",
   "pygments_lexer": "ipython3",
   "version": "3.7.0"
  },
  "nteract": {
   "version": "0.2.0"
  }
 },
 "nbformat": 4,
 "nbformat_minor": 2
}
