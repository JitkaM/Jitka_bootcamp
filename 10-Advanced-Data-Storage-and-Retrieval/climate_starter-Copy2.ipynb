{
 "cells": [
  {
   "cell_type": "code",
   "execution_count": 1,
   "metadata": {},
   "outputs": [],
   "source": [
    "%matplotlib inline\n",
    "from matplotlib import style\n",
    "style.use('fivethirtyeight')\n",
    "import matplotlib.pyplot as plt\n",
    "import datetime"
   ]
  },
  {
   "cell_type": "code",
   "execution_count": 2,
   "metadata": {},
   "outputs": [],
   "source": [
    "import numpy as np\n",
    "import pandas as pd"
   ]
  },
  {
   "cell_type": "code",
   "execution_count": 3,
   "metadata": {},
   "outputs": [],
   "source": [
    "import datetime as dt"
   ]
  },
  {
   "cell_type": "markdown",
   "metadata": {},
   "source": [
    "# Reflect Tables into SQLAlchemy ORM"
   ]
  },
  {
   "cell_type": "code",
   "execution_count": 4,
   "metadata": {},
   "outputs": [],
   "source": [
    "# Python SQL toolkit and Object Relational Mapper\n",
    "import sqlalchemy\n",
    "from sqlalchemy.ext.automap import automap_base\n",
    "from sqlalchemy.orm import Session\n",
    "from sqlalchemy import create_engine, func, inspect\n",
    "from sqlalchemy import Column, Integer, Float, Date, String, ForeignKey\n",
    "from sqlalchemy.ext.declarative import declarative_base\n",
    "from sqlalchemy.orm import sessionmaker\n",
    "from sqlalchemy import Index\n",
    "from sqlalchemy import MetaData\n",
    "from sqlalchemy import Table"
   ]
  },
  {
   "cell_type": "code",
   "execution_count": 5,
   "metadata": {},
   "outputs": [],
   "source": [
    "engine = create_engine(\"sqlite:///Resources/hawaii.sqlite\")"
   ]
  },
  {
   "cell_type": "code",
   "execution_count": 6,
   "metadata": {},
   "outputs": [],
   "source": [
    "# reflect an existing database into a new model\n",
    "Base = automap_base()\n",
    "# reflect the tables\n",
    "Base.prepare(engine, reflect=True)"
   ]
  },
  {
   "cell_type": "code",
   "execution_count": 7,
   "metadata": {},
   "outputs": [
    {
     "data": {
      "text/plain": [
       "['measurement', 'station']"
      ]
     },
     "execution_count": 7,
     "metadata": {},
     "output_type": "execute_result"
    }
   ],
   "source": [
    "# We can view all of the classes that automap found\n",
    "Base.classes.keys()"
   ]
  },
  {
   "cell_type": "code",
   "execution_count": 8,
   "metadata": {},
   "outputs": [],
   "source": [
    "# Save references to each table\n",
    "Measurement = Base.classes.measurement\n",
    "Station = Base.classes.station"
   ]
  },
  {
   "cell_type": "code",
   "execution_count": 9,
   "metadata": {},
   "outputs": [],
   "source": [
    "# Create our session (link) from Python to the DB\n",
    "session = Session(engine)"
   ]
  },
  {
   "cell_type": "markdown",
   "metadata": {},
   "source": [
    "# Exploratory Climate Analysis"
   ]
  },
  {
   "cell_type": "code",
   "execution_count": 10,
   "metadata": {},
   "outputs": [
    {
     "name": "stdout",
     "output_type": "stream",
     "text": [
      "id INTEGER\n",
      "station TEXT\n",
      "date TEXT\n",
      "prcp FLOAT\n",
      "tobs FLOAT\n"
     ]
    }
   ],
   "source": [
    "# Design a query to retrieve the last 12 months of precipitation data and plot the results\n",
    "inspector = inspect(engine) \n",
    "inspector.get_table_names()\n",
    "\n",
    "columns = inspector.get_columns('measurement')\n",
    "\n",
    "for c in columns:\n",
    "    print(c['name'], c[\"type\"])\n",
    "    \n",
    "twelve_month_data = engine.execute(\"select *from measurement where date >= '2017-06-04' order by date desc\").fetchall()\n",
    "#print(twelve_month_data)\n",
    "#engine.execute('select *from station').fetchall()\n"
   ]
  },
  {
   "cell_type": "code",
   "execution_count": 11,
   "metadata": {},
   "outputs": [
    {
     "name": "stdout",
     "output_type": "stream",
     "text": [
      "2016-08-23\n"
     ]
    }
   ],
   "source": [
    "# Calculate the date 1 year ago from today\n",
    "last_date = twelve_month_data[0][2]\n",
    "values = last_date.split('-')\n",
    "\n",
    "#print(values)\n",
    "last_year = dt.date(int(values[0]),int(values[1]),int(values[2])) - dt.timedelta(days=365)\n",
    "print(last_year)"
   ]
  },
  {
   "cell_type": "code",
   "execution_count": 12,
   "metadata": {},
   "outputs": [],
   "source": [
    "# Perform a query to retrieve the data and precipitation scores\n",
    "date_precipitation = session.query(Measurement.date, Measurement.prcp).\\\n",
    "    filter(Measurement.date > last_year).\\\n",
    "    order_by(Measurement.date).all()\n",
    "#print(date_precipitation)"
   ]
  },
  {
   "cell_type": "code",
   "execution_count": 13,
   "metadata": {},
   "outputs": [],
   "source": [
    "# Save the query results as a Pandas DataFrame and set the index to the date column\n",
    "date_precipitation_df = pd.DataFrame(date_precipitation)\n",
    "#date_precipitation_df.head()"
   ]
  },
  {
   "cell_type": "code",
   "execution_count": 14,
   "metadata": {},
   "outputs": [
    {
     "data": {
      "text/html": [
       "<div>\n",
       "<style scoped>\n",
       "    .dataframe tbody tr th:only-of-type {\n",
       "        vertical-align: middle;\n",
       "    }\n",
       "\n",
       "    .dataframe tbody tr th {\n",
       "        vertical-align: top;\n",
       "    }\n",
       "\n",
       "    .dataframe thead th {\n",
       "        text-align: right;\n",
       "    }\n",
       "</style>\n",
       "<table border=\"1\" class=\"dataframe\">\n",
       "  <thead>\n",
       "    <tr style=\"text-align: right;\">\n",
       "      <th></th>\n",
       "      <th>date</th>\n",
       "      <th>prcp</th>\n",
       "    </tr>\n",
       "  </thead>\n",
       "  <tbody>\n",
       "    <tr>\n",
       "      <th>0</th>\n",
       "      <td>2016-08-24</td>\n",
       "      <td>0.08</td>\n",
       "    </tr>\n",
       "    <tr>\n",
       "      <th>1</th>\n",
       "      <td>2016-08-24</td>\n",
       "      <td>2.15</td>\n",
       "    </tr>\n",
       "    <tr>\n",
       "      <th>2</th>\n",
       "      <td>2016-08-24</td>\n",
       "      <td>2.28</td>\n",
       "    </tr>\n",
       "    <tr>\n",
       "      <th>3</th>\n",
       "      <td>2016-08-24</td>\n",
       "      <td>NaN</td>\n",
       "    </tr>\n",
       "    <tr>\n",
       "      <th>4</th>\n",
       "      <td>2016-08-24</td>\n",
       "      <td>1.22</td>\n",
       "    </tr>\n",
       "    <tr>\n",
       "      <th>5</th>\n",
       "      <td>2016-08-24</td>\n",
       "      <td>2.15</td>\n",
       "    </tr>\n",
       "    <tr>\n",
       "      <th>6</th>\n",
       "      <td>2016-08-24</td>\n",
       "      <td>1.45</td>\n",
       "    </tr>\n",
       "  </tbody>\n",
       "</table>\n",
       "</div>"
      ],
      "text/plain": [
       "         date  prcp\n",
       "0  2016-08-24  0.08\n",
       "1  2016-08-24  2.15\n",
       "2  2016-08-24  2.28\n",
       "3  2016-08-24   NaN\n",
       "4  2016-08-24  1.22\n",
       "5  2016-08-24  2.15\n",
       "6  2016-08-24  1.45"
      ]
     },
     "execution_count": 14,
     "metadata": {},
     "output_type": "execute_result"
    }
   ],
   "source": [
    "# Sort the dataframe by date\n",
    "date_precipitation_df.sort_values(by=['date'])\n",
    "date_precipitation_df.head(7)"
   ]
  },
  {
   "cell_type": "code",
   "execution_count": 15,
   "metadata": {},
   "outputs": [
    {
     "data": {
      "image/png": "[encoded data removed]",
      "text/plain": [
       "<Figure size 432x288 with 1 Axes>"
      ]
     },
     "metadata": {
      "needs_background": "light"
     },
     "output_type": "display_data"
    }
   ],
   "source": [
    "# Use Pandas Plotting with Matplotlib to plot the data\n",
    "date_precipitation_df.plot('date', 'prcp')\n",
    "plt.xlabel(\"Date\")\n",
    "plt.legend([\"Precipitation\"])\n",
    "plt.xticks(rotation=45)\n",
    "plt.tight_layout()\n",
    "plt.show()"
   ]
  },
  {
   "cell_type": "code",
   "execution_count": 16,
   "metadata": {},
   "outputs": [
    {
     "data": {
      "text/html": [
       "<div>\n",
       "<style scoped>\n",
       "    .dataframe tbody tr th:only-of-type {\n",
       "        vertical-align: middle;\n",
       "    }\n",
       "\n",
       "    .dataframe tbody tr th {\n",
       "        vertical-align: top;\n",
       "    }\n",
       "\n",
       "    .dataframe thead th {\n",
       "        text-align: right;\n",
       "    }\n",
       "</style>\n",
       "<table border=\"1\" class=\"dataframe\">\n",
       "  <thead>\n",
       "    <tr style=\"text-align: right;\">\n",
       "      <th></th>\n",
       "      <th>prcp</th>\n",
       "    </tr>\n",
       "  </thead>\n",
       "  <tbody>\n",
       "    <tr>\n",
       "      <th>count</th>\n",
       "      <td>2015.000000</td>\n",
       "    </tr>\n",
       "    <tr>\n",
       "      <th>mean</th>\n",
       "      <td>0.176462</td>\n",
       "    </tr>\n",
       "    <tr>\n",
       "      <th>std</th>\n",
       "      <td>0.460288</td>\n",
       "    </tr>\n",
       "    <tr>\n",
       "      <th>min</th>\n",
       "      <td>0.000000</td>\n",
       "    </tr>\n",
       "    <tr>\n",
       "      <th>25%</th>\n",
       "      <td>0.000000</td>\n",
       "    </tr>\n",
       "    <tr>\n",
       "      <th>50%</th>\n",
       "      <td>0.020000</td>\n",
       "    </tr>\n",
       "    <tr>\n",
       "      <th>75%</th>\n",
       "      <td>0.130000</td>\n",
       "    </tr>\n",
       "    <tr>\n",
       "      <th>max</th>\n",
       "      <td>6.700000</td>\n",
       "    </tr>\n",
       "  </tbody>\n",
       "</table>\n",
       "</div>"
      ],
      "text/plain": [
       "              prcp\n",
       "count  2015.000000\n",
       "mean      0.176462\n",
       "std       0.460288\n",
       "min       0.000000\n",
       "25%       0.000000\n",
       "50%       0.020000\n",
       "75%       0.130000\n",
       "max       6.700000"
      ]
     },
     "execution_count": 16,
     "metadata": {},
     "output_type": "execute_result"
    }
   ],
   "source": [
    "# Use Pandas to calcualte the summary statistics for the precipitation data\n",
    "date_precipitation_df.describe()"
   ]
  },
  {
   "cell_type": "code",
   "execution_count": 17,
   "metadata": {},
   "outputs": [
    {
     "name": "stdout",
     "output_type": "stream",
     "text": [
      "There are 9 stations.\n"
     ]
    }
   ],
   "source": [
    "# How many stations are available in this dataset?\n",
    "station_count = engine.execute('select count(*) from station').fetchall()\n",
    "print(\"There are\", station_count[0][0], \"stations.\")"
   ]
  },
  {
   "cell_type": "code",
   "execution_count": 18,
   "metadata": {},
   "outputs": [
    {
     "data": {
      "text/plain": [
       "[('USC00519281', 2772),\n",
       " ('USC00519397', 2724),\n",
       " ('USC00513117', 2709),\n",
       " ('USC00519523', 2669),\n",
       " ('USC00516128', 2612),\n",
       " ('USC00514830', 2202),\n",
       " ('USC00511918', 1979),\n",
       " ('USC00517948', 1372),\n",
       " ('USC00518838', 511)]"
      ]
     },
     "execution_count": 18,
     "metadata": {},
     "output_type": "execute_result"
    }
   ],
   "source": [
    "# What are the most active stations?\n",
    "# List the stations and the counts in descending order.\n",
    "session.query(Measurement.station,\\\n",
    "              func.count(Measurement.station))\\\n",
    "              .order_by(func.count(Measurement.station).desc())\\\n",
    "              .group_by(Measurement.station).all()"
   ]
  },
  {
   "cell_type": "code",
   "execution_count": 19,
   "metadata": {},
   "outputs": [
    {
     "name": "stdout",
     "output_type": "stream",
     "text": [
      "54.0 85.0 71.66378066378067\n"
     ]
    }
   ],
   "source": [
    "# Using the station id from the previous query, calculate the lowest temperature recorded, \n",
    "# highest temperature recorded, and average temperature most active station?\n",
    "\n",
    "active_stations = engine.execute('select station, count(*) from measurement group by station order by count(*) desc').fetchall()\n",
    "#print(active_stations)\n",
    "\n",
    "bussiest_station = active_stations[0][0]\n",
    "records = session.query(Measurement.tobs).\\\n",
    "    filter(Measurement.station == bussiest_station).\\\n",
    "    order_by(Measurement.date).all()\n",
    "y = [a for b in records for a in b] \n",
    "#print(y)\n",
    "\n",
    "max_value = max(y) \n",
    "min_value = min(y) \n",
    "avg_value = sum(y)/len(y)\n",
    "\n",
    "print(min_value, max_value, avg_value)"
   ]
  },
  {
   "cell_type": "code",
   "execution_count": 20,
   "metadata": {},
   "outputs": [
    {
     "data": {
      "image/png": "[encoded data removed]",
      "text/plain": [
       "<Figure size 432x288 with 1 Axes>"
      ]
     },
     "metadata": {
      "needs_background": "light"
     },
     "output_type": "display_data"
    }
   ],
   "source": [
    "# Choose the station with the highest number of temperature observations.\n",
    "# Query the last 12 months of temperature observation data for this station and plot the results as a histogram\n",
    "\n",
    "busy_last_date = session.query(Measurement.station, Measurement.date).filter(Measurement.station == bussiest_station).order_by(Measurement.date.desc()).first()\n",
    "#print(busy_last_date)\n",
    "\n",
    "values_last_date = busy_last_date[1].split('-')\n",
    "#print(values_last_date)\n",
    "\n",
    "busy_last_year = dt.date(int(values_last_date[0]),int(values_last_date[1]),int(values_last_date[2])) - dt.timedelta(days=365)\n",
    "#print(busy_last_year)\n",
    "\n",
    "temperature_twelve_months = session.query(Measurement.station, Measurement.date, Measurement.tobs).\\\n",
    "   filter(Measurement.station == bussiest_station).\\\n",
    "   filter(Measurement.date > busy_last_year).\\\n",
    "   order_by(Measurement.date).all()\n",
    "\n",
    "temp_busy_df=pd.DataFrame(temperature_twelve_months)\n",
    "plt.hist(temp_busy_df['tobs'],12)\n",
    "plt.xlabel(\"Recorded Temperature\")\n",
    "plt.ylabel(\"Number of Recorded Observations\")\n",
    "plt.show()"
   ]
  },
  {
   "cell_type": "code",
   "execution_count": 21,
   "metadata": {},
   "outputs": [
    {
     "name": "stdout",
     "output_type": "stream",
     "text": [
      "[(62.0, 69.57142857142857, 74.0)]\n"
     ]
    }
   ],
   "source": [
    "# Write a function called `calc_temps` that will accept start date and end date in the format '%Y-%m-%d' \n",
    "# and return the minimum, average, and maximum temperatures for that range of dates\n",
    "def calc_temps(start_date, end_date):\n",
    "    \"\"\"TMIN, TAVG, and TMAX for a list of dates.\n",
    "    \n",
    "    Args:\n",
    "        start_date (string): A date string in the format %Y-%m-%d\n",
    "        end_date (string): A date string in the format %Y-%m-%d\n",
    "        \n",
    "    Returns:\n",
    "        TMIN, TAVE, and TMAX\n",
    "    \"\"\"\n",
    "    \n",
    "    return session.query(func.min(Measurement.tobs), func.avg(Measurement.tobs), func.max(Measurement.tobs)).\\\n",
    "        filter(Measurement.date >= start_date).filter(Measurement.date <= end_date).all()\n",
    "print(calc_temps('2012-02-28', '2012-03-05'))"
   ]
  },
  {
   "cell_type": "code",
   "execution_count": 22,
   "metadata": {},
   "outputs": [
    {
     "name": "stdout",
     "output_type": "stream",
     "text": [
      "[(72.0, 77.2, 83.0)]\n"
     ]
    }
   ],
   "source": [
    "# Write a function called `calc_temps` that will accept start date and end date in the format '%Y-%m-%d' \n",
    "# and return the minimum, average, and maximum temperatures for that range of dates\n",
    "\n",
    "def calc_temps(start_date, end_date):\n",
    "    start_date_query = datetime.datetime.strptime(start_date, \"%Y-%m-%d\") - datetime.timedelta(days=365)\n",
    "    end_date_query = datetime.datetime.strptime(end_date, \"%Y-%m-%d\") - datetime.timedelta(days=365)\n",
    "\n",
    "    \n",
    "    return session.query(func.min(Measurement.tobs), func.avg(Measurement.tobs), func.max(Measurement.tobs)).\\\n",
    "        filter(Measurement.date >= start_date).filter(Measurement.date <= end_date).all()\n",
    "print(calc_temps('2017-06-04', '2017-06-19'))\n"
   ]
  },
  {
   "cell_type": "code",
   "execution_count": 23,
   "metadata": {},
   "outputs": [
    {
     "name": "stdout",
     "output_type": "stream",
     "text": [
      "[(65.0, 75.08, 81.0)]\n"
     ]
    }
   ],
   "source": [
    "# Use your previous function `calc_temps` to calculate the tmin, tavg, and tmax \n",
    "# for your trip using the previous year's data for those same dates.\n",
    "\n",
    "temp_my_trip = (calc_temps('2016-06-04', '2016-06-19'))\n",
    "print(temp_my_trip)\n"
   ]
  },
  {
   "cell_type": "code",
   "execution_count": 24,
   "metadata": {},
   "outputs": [
    {
     "data": {
      "image/png": "[encoded data removed]",
      "text/plain": [
       "<Figure size 288x792 with 1 Axes>"
      ]
     },
     "metadata": {
      "needs_background": "light"
     },
     "output_type": "display_data"
    }
   ],
   "source": [
    "# Plot the results from your previous query as a bar chart. \n",
    "# Use \"Trip Avg Temp\" as your Title\n",
    "# Use the average temperature for the y value\n",
    "# Use the peak-to-peak (tmax-tmin) value as the y error bar (yerr)\n",
    "\n",
    "trip_results = calc_temps('2017-06-04', '2017-06-19')\n",
    "min_temp = (list(zip(*trip_results))[0])[0]\n",
    "avg_temp = (list(zip(*trip_results))[1])[0]\n",
    "max_temp = (list(zip(*trip_results))[2])[0]\n",
    "\n",
    "\n",
    "plt.figure(figsize=(4,11))\n",
    "plt.bar(1, avg_temp, yerr=(max_temp - min_temp), tick_label='', color='lightcoral')\n",
    "plt.ylabel(\"Temp (F)\", weight=\"bold\")\n",
    "plt.title(\"Trip Avg Temp\", weight=\"bold\")\n",
    "plt.show()"
   ]
  },
  {
   "cell_type": "code",
   "execution_count": 25,
   "metadata": {},
   "outputs": [
    {
     "data": {
      "text/html": [
       "<div>\n",
       "<style scoped>\n",
       "    .dataframe tbody tr th:only-of-type {\n",
       "        vertical-align: middle;\n",
       "    }\n",
       "\n",
       "    .dataframe tbody tr th {\n",
       "        vertical-align: top;\n",
       "    }\n",
       "\n",
       "    .dataframe thead th {\n",
       "        text-align: right;\n",
       "    }\n",
       "</style>\n",
       "<table border=\"1\" class=\"dataframe\">\n",
       "  <thead>\n",
       "    <tr style=\"text-align: right;\">\n",
       "      <th></th>\n",
       "      <th>0</th>\n",
       "      <th>1</th>\n",
       "      <th>2</th>\n",
       "      <th>3</th>\n",
       "      <th>4</th>\n",
       "      <th>5</th>\n",
       "    </tr>\n",
       "  </thead>\n",
       "  <tbody>\n",
       "    <tr>\n",
       "      <th>0</th>\n",
       "      <td>USC00516128</td>\n",
       "      <td>6.80</td>\n",
       "      <td>MANOA LYON ARBO 785.2, HI US</td>\n",
       "      <td>21.33310</td>\n",
       "      <td>-157.80250</td>\n",
       "      <td>152.4</td>\n",
       "    </tr>\n",
       "    <tr>\n",
       "      <th>1</th>\n",
       "      <td>USC00519281</td>\n",
       "      <td>3.26</td>\n",
       "      <td>WAIHEE 837.5, HI US</td>\n",
       "      <td>21.45167</td>\n",
       "      <td>-157.84889</td>\n",
       "      <td>32.9</td>\n",
       "    </tr>\n",
       "    <tr>\n",
       "      <th>2</th>\n",
       "      <td>USC00513117</td>\n",
       "      <td>2.30</td>\n",
       "      <td>KANEOHE 838.1, HI US</td>\n",
       "      <td>21.42340</td>\n",
       "      <td>-157.80150</td>\n",
       "      <td>14.6</td>\n",
       "    </tr>\n",
       "    <tr>\n",
       "      <th>3</th>\n",
       "      <td>USC00514830</td>\n",
       "      <td>2.12</td>\n",
       "      <td>KUALOA RANCH HEADQUARTERS 886.9, HI US</td>\n",
       "      <td>21.52130</td>\n",
       "      <td>-157.83740</td>\n",
       "      <td>7.0</td>\n",
       "    </tr>\n",
       "    <tr>\n",
       "      <th>4</th>\n",
       "      <td>USC00519523</td>\n",
       "      <td>0.62</td>\n",
       "      <td>WAIMANALO EXPERIMENTAL FARM, HI US</td>\n",
       "      <td>21.33556</td>\n",
       "      <td>-157.71139</td>\n",
       "      <td>19.5</td>\n",
       "    </tr>\n",
       "    <tr>\n",
       "      <th>5</th>\n",
       "      <td>USC00519397</td>\n",
       "      <td>0.19</td>\n",
       "      <td>WAIKIKI 717.2, HI US</td>\n",
       "      <td>21.27160</td>\n",
       "      <td>-157.81680</td>\n",
       "      <td>3.0</td>\n",
       "    </tr>\n",
       "    <tr>\n",
       "      <th>6</th>\n",
       "      <td>USC00517948</td>\n",
       "      <td>NaN</td>\n",
       "      <td>PEARL CITY, HI US</td>\n",
       "      <td>21.39340</td>\n",
       "      <td>-157.97510</td>\n",
       "      <td>11.9</td>\n",
       "    </tr>\n",
       "  </tbody>\n",
       "</table>\n",
       "</div>"
      ],
      "text/plain": [
       "             0     1                                       2         3  \\\n",
       "0  USC00516128  6.80            MANOA LYON ARBO 785.2, HI US  21.33310   \n",
       "1  USC00519281  3.26                     WAIHEE 837.5, HI US  21.45167   \n",
       "2  USC00513117  2.30                    KANEOHE 838.1, HI US  21.42340   \n",
       "3  USC00514830  2.12  KUALOA RANCH HEADQUARTERS 886.9, HI US  21.52130   \n",
       "4  USC00519523  0.62      WAIMANALO EXPERIMENTAL FARM, HI US  21.33556   \n",
       "5  USC00519397  0.19                    WAIKIKI 717.2, HI US  21.27160   \n",
       "6  USC00517948   NaN                       PEARL CITY, HI US  21.39340   \n",
       "\n",
       "           4      5  \n",
       "0 -157.80250  152.4  \n",
       "1 -157.84889   32.9  \n",
       "2 -157.80150   14.6  \n",
       "3 -157.83740    7.0  \n",
       "4 -157.71139   19.5  \n",
       "5 -157.81680    3.0  \n",
       "6 -157.97510   11.9  "
      ]
     },
     "execution_count": 25,
     "metadata": {},
     "output_type": "execute_result"
    }
   ],
   "source": [
    "# Calculate the rainfall per weather station for your trip dates using the previous year's matching dates.\n",
    "# Sort this in descending order by precipitation amount and list the station, name, latitude, longitude, and elevation\n",
    "\n",
    "rain_records = engine.execute(\"SELECT m.station, SUM(m.prcp) AS precipitations, s.name, s.latitude, s.longitude, s.elevation \\\n",
    "                FROM Measurement m JOIN Station s ON m.station = s.station \\\n",
    "                WHERE m.date BETWEEN '2017-06-04' AND '2017-06-19' \\\n",
    "                GROUP BY m.station \\\n",
    "                ORDER BY precipitations DESC\").fetchall()\n",
    "rain_records_df = pd.DataFrame(rain_records)\n",
    "rain_records_df\n"
   ]
  },
  {
   "cell_type": "markdown",
   "metadata": {},
   "source": [
    "Step 2 - Climate App"
   ]
  },
  {
   "cell_type": "code",
   "execution_count": 26,
   "metadata": {},
   "outputs": [],
   "source": [
    "# Python SQL toolkit and Object Relational Mapper\n",
    "import pandas as pd\n",
    "import numpy as np\n",
    "import datetime as dt\n",
    "import sqlalchemy\n",
    "from sqlalchemy.ext.automap import automap_base\n",
    "from sqlalchemy.ext.declarative import declarative_base\n",
    "from sqlalchemy.orm import Session\n",
    "from sqlalchemy import Column, Integer, String, Numeric, Text, Float\n",
    "from sqlalchemy import create_engine, func, inspect"
   ]
  },
  {
   "cell_type": "code",
   "execution_count": 27,
   "metadata": {},
   "outputs": [],
   "source": [
    "# database setup\n",
    "engine1 = create_engine(\"sqlite:///hawaii.sqlite\")"
   ]
  },
  {
   "cell_type": "code",
   "execution_count": 28,
   "metadata": {},
   "outputs": [],
   "source": [
    "# Create conection to MySQL\n",
    "session1 = Session(engine1)"
   ]
  },
  {
   "cell_type": "code",
   "execution_count": 29,
   "metadata": {},
   "outputs": [],
   "source": [
    "from flask import Flask, jsonify"
   ]
  },
  {
   "cell_type": "code",
   "execution_count": 30,
   "metadata": {},
   "outputs": [],
   "source": [
    "#calculate dates for the query.\n",
    "end_date = dt.datetime(year=2017, month=6, day=19)\n",
    "start_date = end_date - dt.timedelta(days=365)"
   ]
  },
  {
   "cell_type": "code",
   "execution_count": 31,
   "metadata": {},
   "outputs": [],
   "source": [
    "# Use `declarative_base` from SQLAlchemy to model the tables as an ORM class\n",
    "Base = declarative_base()"
   ]
  },
  {
   "cell_type": "code",
   "execution_count": 32,
   "metadata": {},
   "outputs": [],
   "source": [
    "# query data set and build df\n",
    "\n",
    "query = f\"SELECT * FROM measurement WHERE date >= '{start_date}' AND date <= '{end_date}'\"\n",
    "df_query = pd.read_sql_query(query, session1.bind)\n",
    "\n",
    "#df_query"
   ]
  },
  {
   "cell_type": "code",
   "execution_count": 33,
   "metadata": {},
   "outputs": [],
   "source": [
    "# Routes\n",
    "# /api/v1.0/precipitation\n",
    "# Query for the dates and temperature observations from the last year\n",
    "#app = Flask(__name__)\n",
    "\n",
    "#@app.route('/api/v1.0/precipitation') \n",
    "def precipitation():\n",
    "    print(\"Server received request for 'Precipitation' page...\")\n",
    "    return \"These are the dates and temperature observations from last year.\"\n",
    "  \n",
    "    # create replica of df_query to remove unwanted columns but leave the original df for other queries\n",
    "    df_query_tobs = df_query\n",
    "\n",
    "    # removed unwanted columns\n",
    "    df_query_tobs.drop('id', axis=1, inplace=True)\n",
    "    df_query_tobs.drop('station', axis=1, inplace=True)\n",
    "    df_query_tobs.drop('prcp', axis=1, inplace=True)\n",
    "    \n",
    "# Return the json representation dictionary. df to dictionary happening inside the argument of jsonify\n",
    "    return jsonify(df_query_tobs.to_dict(orient='records'))"
   ]
  },
  {
   "cell_type": "code",
   "execution_count": 34,
   "metadata": {},
   "outputs": [],
   "source": [
    "# Return a json list of stations from the dataset\n",
    "#@app.route(\"/api/v1.0/stations\")\n",
    "def stations():\n",
    "    print(\"Server received request for 'stations' page...\")\n",
    "    return \"These are the list of stations that recorded dates and temperature observations from last year.\"\n",
    "  \n",
    "    query = f\"SELECT DISTINCT station FROM measurement WHERE date >= '{start_date}' AND date <= '{end_date}'\"\n",
    "    \n",
    "    # build df from query result\n",
    "    df_query = pd.read_sql_query(query, session1.bind)\n",
    "    \n",
    "# Return the json representation dictionary. df to dictionary happening inside the argument of jsonify\n",
    "    return jsonify(df_query.to_dict(orient='records'))"
   ]
  },
  {
   "cell_type": "code",
   "execution_count": 35,
   "metadata": {},
   "outputs": [],
   "source": [
    "# /api/v1.0/tobs\n",
    "# Return a json list of Temperature Observations (tobs) for the previous year\n",
    "#@app.route('/api/v1.0/tobs') \n",
    "def tobs():\n",
    "    print(\"Server received request for 'Temperature observations' page...\")\n",
    "    return \"This is the list of Temperature observations (tobs) from previous year!\"\n",
    "    \n",
    "    #calculate the dates for previous year for the query.\n",
    "    start_date2 = start_date - dt.timedelta(days=365)\n",
    "    end_date2 = end_date - dt.timedelta(days=365)\n",
    "    \n",
    "    query = f\"SELECT tobs FROM measurement WHERE date >= '{start_date2}' AND date <= '{end_date2}'\"\n",
    "    \n",
    "    # build df from query result\n",
    "    df_query = pd.read_sql_query(query, session1.bind)\n",
    "    \n",
    "    return jsonify(df_query.to_dict(orient='records'))"
   ]
  },
  {
   "cell_type": "code",
   "execution_count": 36,
   "metadata": {},
   "outputs": [],
   "source": [
    "# /api/v1.0/<start> and /api/v1.0/<start>/<end>\n",
    "# Return a json list of the minimum temperature, the average temperature, and \n",
    "# the max temperature for a given start or start-end range.\n",
    "#@app.route('/api/v1.0/<start>)') \n",
    "def tobs_start():\n",
    "    print(\"Server received request for 'Minimum Temperature, Average Temperature, Maximum Temperature of a given start' page...\")\n",
    "    return \"Here is the list of Temperature information for the given date!\"\n",
    "    \n",
    "    query = f\"SELECT MIN(tobs), MAX(tobs), AVG(tobs) FROM measurement WHERE date >= '{start_date}'\"\n",
    "    \n",
    "    # build df from query result\n",
    "    df_query = pd.read_sql_query(query, session1.bind)\n",
    "\n",
    "    my_list = df_query[\"MIN(tobs)\"].values\n",
    "    min_tobs = my_list[0]\n",
    "\n",
    "    my_list = df_query[\"MAX(tobs)\"].values\n",
    "    max_tobs = my_list[0]\n",
    "\n",
    "    my_list = df_query[\"AVG(tobs)\"].values\n",
    "    avg_tobs = my_list[0]\n",
    "    \n",
    "    return jsonify(min_tobs, max_tobs, avg_tobs)\n",
    "\n",
    "#@app.route('/api/v1.0/<start>/<end>') \n",
    "def tobs_given_range():\n",
    "    \n",
    "    print(\"Server received request for 'Minimum Temperature, Average Temperature, Maximum Temperature of a given start or date range' page...\")\n",
    "    return \"Here is the list of Temperature information for the given date range!\"\n",
    "    \n",
    "    query = f\"SELECT MIN(tobs) FROM measurement WHERE date >= '{start_date}' AND date <= '{end_date}'\"\n",
    "    \n",
    "    # build df from query result\n",
    "    df_query = pd.read_sql_query(query, session1.bind)\n",
    "\n",
    "    my_list = df_query[\"MIN(tobs)\"].values\n",
    "    min_tobs = my_list[0]\n",
    "\n",
    "    my_list = df_query[\"MAX(tobs)\"].values\n",
    "    max_tobs = my_list[0]\n",
    "\n",
    "    my_list = df_query[\"AVG(tobs)\"].values\n",
    "    avg_tobs = my_list[0]\n",
    "    \n",
    "    return jsonify(min_tobs, max_tobs, avg_tobs)"
   ]
  },
  {
   "cell_type": "code",
   "execution_count": null,
   "metadata": {},
   "outputs": [],
   "source": []
  }
 ],
 "metadata": {
  "kernel_info": {
   "name": "python3"
  },
  "kernelspec": {
   "display_name": "Python 3",
   "language": "python",
   "name": "python3"
  },
  "language_info": {
   "codemirror_mode": {
    "name": "ipython",
    "version": 3
   },
   "file_extension": ".py",
   "mimetype": "text/x-python",
   "name": "python",
   "nbconvert_exporter": "python",
   "pygments_lexer": "ipython3",
   "version": "3.6.6"
  },
  "nteract": {
   "version": "0.9.1"
  },
  "varInspector": {
   "cols": {
    "lenName": 16,
    "lenType": 16,
    "lenVar": 40
   },
   "kernels_config": {
    "python": {
     "delete_cmd_postfix": "",
     "delete_cmd_prefix": "del ",
     "library": "var_list.py",
     "varRefreshCmd": "print(var_dic_list())"
    },
    "r": {
     "delete_cmd_postfix": ") ",
     "delete_cmd_prefix": "rm(",
     "library": "var_list.r",
     "varRefreshCmd": "cat(var_dic_list()) "
    }
   },
   "types_to_exclude": [
    "module",
    "function",
    "builtin_function_or_method",
    "instance",
    "_Feature"
   ],
   "window_display": false
  }
 },
 "nbformat": 4,
 "nbformat_minor": 2
}
